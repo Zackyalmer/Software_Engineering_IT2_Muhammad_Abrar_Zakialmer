{
  "nbformat": 4,
  "nbformat_minor": 0,
  "metadata": {
    "colab": {
      "name": "Assignment.ipynb",
      "provenance": []
    },
    "kernelspec": {
      "name": "python3",
      "display_name": "Python 3"
    },
    "language_info": {
      "name": "python"
    }
  },
  "cells": [
    {
      "cell_type": "code",
      "metadata": {
        "id": "M0cX5I2CsPRq"
      },
      "source": [
        "# Tugas kelompok tapi sendiri\n",
        "\n",
        "# jumlah total bilangan dibawah 1000 yang habis di bagi 3 dan 5\n",
        "\n",
        "# Method 1\n",
        "def sum_of_all():\n",
        "  list_angka = []\n",
        "  x = 1\n",
        "  while True:\n",
        "    if 3*x < 1000:\n",
        "      list_angka.append(3*x)\n",
        "    if 5*x < 1000:\n",
        "      list_angka.append(5*x)\n",
        "    if (3*x > 1000) and (5*x > 1000):\n",
        "      break\n",
        "    x += 1\n",
        "  list_fix = list(set(list_angka))\n",
        "  print(sum(list_fix))\n",
        "\n",
        "\n"
      ],
      "execution_count": 25,
      "outputs": []
    },
    {
      "cell_type": "code",
      "metadata": {
        "colab": {
          "base_uri": "https://localhost:8080/"
        },
        "id": "MO5LKFwatob3",
        "outputId": "2d197751-23a1-4c11-c44c-a7206356791c"
      },
      "source": [
        "sum_of_all()"
      ],
      "execution_count": 21,
      "outputs": [
        {
          "output_type": "stream",
          "name": "stdout",
          "text": [
            "233168\n"
          ]
        }
      ]
    },
    {
      "cell_type": "code",
      "metadata": {
        "id": "SpldAw0Rtrzh"
      },
      "source": [
        "# Method 2\n",
        "list_num = []\n",
        "for i in range (1,1000,1):\n",
        "  if (i % 3 == 0):\n",
        "    list_num.append(i)\n",
        "  elif (i % 5 == 0):\n",
        "    list_num.append(i)\n"
      ],
      "execution_count": 23,
      "outputs": []
    },
    {
      "cell_type": "code",
      "metadata": {
        "colab": {
          "base_uri": "https://localhost:8080/"
        },
        "id": "DC8tqMmSvkpB",
        "outputId": "4fcfbef1-abef-424e-9b4b-c471b3be6804"
      },
      "source": [
        "print(sum(list_num))"
      ],
      "execution_count": 24,
      "outputs": [
        {
          "output_type": "stream",
          "name": "stdout",
          "text": [
            "233168\n"
          ]
        }
      ]
    }
  ]
}